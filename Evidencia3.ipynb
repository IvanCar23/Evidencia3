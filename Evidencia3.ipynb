{
  "nbformat": 4,
  "nbformat_minor": 0,
  "metadata": {
    "colab": {
      "provenance": []
    },
    "kernelspec": {
      "name": "python3",
      "display_name": "Python 3"
    },
    "language_info": {
      "name": "python"
    }
  },
  "cells": [
    {
      "cell_type": "code",
      "execution_count": null,
      "metadata": {
        "id": "5FKxrqKv2x0_"
      },
      "outputs": [],
      "source": [
        "import pickle\n",
        "\n",
        "class Libro:\n",
        "    def __init__(self, titulo, autor, anio_publicacion):\n",
        "        self.titulo = titulo\n",
        "        self.autor = autor\n",
        "        self.anio_publicacion = anio_publicacion\n",
        "\n",
        "    def __str__(self):\n",
        "        return f\"Libro(titulo={self.titulo}, autor={self.autor}, año={self.anio_publicacion})\"\n",
        "\n",
        "# Función para serializar y guardar la lista de libros en un archivo pickle\n",
        "def serializar_libros(lista_libros, nombre_archivo):\n",
        "    with open(nombre_archivo, 'wb') as archivo:\n",
        "        pickle.dump(lista_libros, archivo)\n",
        "    print(f\"Lista de libros serializada y guardada en {nombre_archivo}.\")\n",
        "\n",
        "# Función para recuperar y deserializar la lista de libros desde un archivo pickle\n",
        "def deserializar_libros(nombre_archivo):\n",
        "    with open(nombre_archivo, 'rb') as archivo:\n",
        "        lista_libros = pickle.load(archivo)\n",
        "    print(f\"Lista de libros deserializada desde {nombre_archivo}.\")\n",
        "    return lista_libros\n",
        "\n",
        "# Demostración de uso\n",
        "if __name__ == \"__main__\":\n",
        "    # Crear una lista de instancias de la clase Libro\n",
        "    libros_originales = [\n",
        "        Libro(titulo=\"Harry Potter\", autor=\"J.K. Rowling\", anio_publicacion=1997),\n",
        "        Libro(titulo=\"Cien años de soledad\", autor=\"Gabriel García Márquez\", anio_publicacion=1967),\n",
        "        Libro(titulo=\"El señor de los anillos\", autor=\"J.R.R. Tolkien\", anio_publicacion=1954)\n",
        "    ]\n",
        "\n",
        "    # Serializar y guardar la lista de libros en un archivo pickle\n",
        "    serializar_libros(libros_originales, \"libros.pickle\")\n",
        "\n",
        "    # Deserializar la lista de libros desde el archivo pickle\n",
        "    libros_recuperados = deserializar_libros(\"libros.pickle\")\n",
        "\n",
        "    # Mostrar la lista de libros original y la lista recuperada\n",
        "    print(\"\\nLista de libros original:\")\n",
        "    for libro in libros_originales:\n",
        "        print(libro)\n",
        "\n",
        "    print(\"\\nLista de libros recuperada:\")\n",
        "    for libro in libros_recuperados:\n",
        "        print(libro)\n"
      ]
    }
  ]
}